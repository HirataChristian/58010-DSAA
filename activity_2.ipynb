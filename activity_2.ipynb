{
  "nbformat": 4,
  "nbformat_minor": 0,
  "metadata": {
    "colab": {
      "provenance": [],
      "authorship_tag": "ABX9TyOyg1zp38QpAu4L3XQqv6zw",
      "include_colab_link": true
    },
    "kernelspec": {
      "name": "python3",
      "display_name": "Python 3"
    },
    "language_info": {
      "name": "python"
    }
  },
  "cells": [
    {
      "cell_type": "markdown",
      "metadata": {
        "id": "view-in-github",
        "colab_type": "text"
      },
      "source": [
        "<a href=\"https://colab.research.google.com/github/HirataChristian/58010-DSAA/blob/main/activity_2.ipynb\" target=\"_parent\"><img src=\"https://colab.research.google.com/assets/colab-badge.svg\" alt=\"Open In Colab\"/></a>"
      ]
    },
    {
      "cell_type": "code",
      "source": [
        "class Node:\n",
        "    def __init__(self, data):\n",
        "        self.data = data\n",
        "        self.next = None\n",
        "\n",
        "def is_prime(n):\n",
        "    if n <= 1:\n",
        "        return False\n",
        "    return all(n % i != 0 for i in range(2, int(n**0.5) + 1))\n",
        "\n",
        "def create_prime_linked_list():\n",
        "    head = tail = None\n",
        "    for num in range(2, 20):\n",
        "        if is_prime(num):\n",
        "            new_node = Node(num)\n",
        "            if not head:\n",
        "                head = tail = new_node\n",
        "            else:\n",
        "                tail.next = new_node\n",
        "                tail = new_node\n",
        "    return head, tail\n",
        "\n",
        "def display_linked_list(head, tail):\n",
        "    prime_numbers = []\n",
        "    current = head\n",
        "    while current:\n",
        "        prime_numbers.append(current.data)\n",
        "        current = current.next\n",
        "    return prime_numbers\n",
        "\n",
        "head, tail = create_prime_linked_list()\n",
        "prime_numbers = display_linked_list(head, tail)\n",
        "\n",
        "print(\"Prime Numbers:\", prime_numbers)\n",
        "print(\"Head:\", head.data)\n",
        "print(\"Tail:\", tail.data)\n"
      ],
      "metadata": {
        "colab": {
          "base_uri": "https://localhost:8080/"
        },
        "id": "MhHGAUWA6H1J",
        "outputId": "2a348608-a689-4191-9e20-80632ed76e33"
      },
      "execution_count": 5,
      "outputs": [
        {
          "output_type": "stream",
          "name": "stdout",
          "text": [
            "Prime Numbers: [2, 3, 5, 7, 11, 13, 17, 19]\n",
            "Head: 2\n",
            "Tail: 19\n"
          ]
        }
      ]
    },
    {
      "cell_type": "code",
      "source": [],
      "metadata": {
        "id": "f72-k4Y-5xUp"
      },
      "execution_count": null,
      "outputs": []
    }
  ]
}