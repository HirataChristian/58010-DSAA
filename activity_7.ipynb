{
  "nbformat": 4,
  "nbformat_minor": 0,
  "metadata": {
    "colab": {
      "provenance": [],
      "authorship_tag": "ABX9TyMapBHZ0XLb6j32VqEEGhAa",
      "include_colab_link": true
    },
    "kernelspec": {
      "name": "python3",
      "display_name": "Python 3"
    },
    "language_info": {
      "name": "python"
    }
  },
  "cells": [
    {
      "cell_type": "markdown",
      "metadata": {
        "id": "view-in-github",
        "colab_type": "text"
      },
      "source": [
        "<a href=\"https://colab.research.google.com/github/HirataChristian/58010-DSAA/blob/main/activity_7.ipynb\" target=\"_parent\"><img src=\"https://colab.research.google.com/assets/colab-badge.svg\" alt=\"Open In Colab\"/></a>"
      ]
    },
    {
      "cell_type": "code",
      "source": [
        "#Display Graph Edges\n",
        "\n",
        "class graph:\n",
        "   def __init__(self,gdict=None):\n",
        "      if gdict is None:\n",
        "         gdict = {}\n",
        "      self.gdict = gdict\n",
        "\n",
        "   def edges(self):\n",
        "      return self.findedges()\n",
        "# Find the distinct list of edges\n",
        "   def findedges(self):\n",
        "      edgename = []\n",
        "      for vrtx in self.gdict:\n",
        "         for nxtvrtx in self.gdict[vrtx]:\n",
        "            if {nxtvrtx, vrtx} not in edgename:\n",
        "               edgename.append({vrtx, nxtvrtx})\n",
        "      return edgename\n",
        "# Create the dictionary with graph elements\n",
        "graph_elements = {\n",
        "   \"q\" : [\"t\",\"s\",\"w\"],\n",
        "   \"w\" : [\"s\",\"v\"],\n",
        "   \"x\" : [\"y\",\"z\"],\n",
        "   \"s\" : [\"w\",\"v\"],\n",
        "   \"t\" : [\"x\", \"y\"],\n",
        "   \"r\" : [\"u\",\"y\"],\n",
        "   \"z\" : [\"x\",],\n",
        "   \"y\" : [\"u\", \"x\",\"q\"],\n",
        "}\n",
        "g = graph(graph_elements)\n",
        "print(g.edges())\n"
      ],
      "metadata": {
        "colab": {
          "base_uri": "https://localhost:8080/"
        },
        "id": "Md3L3cluuAhQ",
        "outputId": "ba1df3cc-3d40-4997-98b7-c9bcfd0d2fc7"
      },
      "execution_count": 2,
      "outputs": [
        {
          "output_type": "stream",
          "name": "stdout",
          "text": [
            "[{'t', 'q'}, {'s', 'q'}, {'w', 'q'}, {'s', 'w'}, {'w', 'v'}, {'x', 'y'}, {'x', 'z'}, {'s', 'v'}, {'x', 't'}, {'t', 'y'}, {'u', 'r'}, {'y', 'r'}, {'u', 'y'}, {'q', 'y'}]\n"
          ]
        }
      ]
    },
    {
      "cell_type": "code",
      "source": [
        "#Display Graph Vertices\n",
        "\n",
        "class graph:\n",
        "   def __init__(self,gdict=None):\n",
        "      if gdict is None:\n",
        "         gdict = []\n",
        "      self.gdict = gdict\n",
        "# Get the keys of the dictionary\n",
        "   def getVertices(self):\n",
        "      return list(self.gdict.keys())\n",
        "# Create the dictionary with graph elements\n",
        "graph_elements = {\n",
        "   \"a\" : [\"b\",\"c\"],\n",
        "   \"b\" : [\"a\", \"d\"],\n",
        "   \"c\" : [\"a\", \"d\"],\n",
        "   \"d\" : [\"e\"],\n",
        "   \"e\" : [\"d\"]\n",
        "}\n",
        "g = graph(graph_elements)\n",
        "print(g.getVertices())"
      ],
      "metadata": {
        "colab": {
          "base_uri": "https://localhost:8080/"
        },
        "id": "cO6OZTyXuQTe",
        "outputId": "6c6e6c42-d3b9-4283-af86-c17f1b5c4331"
      },
      "execution_count": 3,
      "outputs": [
        {
          "output_type": "stream",
          "name": "stdout",
          "text": [
            "['a', 'b', 'c', 'd', 'e']\n"
          ]
        }
      ]
    }
  ]
}