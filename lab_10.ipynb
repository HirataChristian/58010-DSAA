{
  "nbformat": 4,
  "nbformat_minor": 0,
  "metadata": {
    "colab": {
      "provenance": [],
      "authorship_tag": "ABX9TyP6da1EVotE0PwAklnrgfPk",
      "include_colab_link": true
    },
    "kernelspec": {
      "name": "python3",
      "display_name": "Python 3"
    },
    "language_info": {
      "name": "python"
    }
  },
  "cells": [
    {
      "cell_type": "markdown",
      "metadata": {
        "id": "view-in-github",
        "colab_type": "text"
      },
      "source": [
        "<a href=\"https://colab.research.google.com/github/HirataChristian/58010-DSAA/blob/main/lab_10.ipynb\" target=\"_parent\"><img src=\"https://colab.research.google.com/assets/colab-badge.svg\" alt=\"Open In Colab\"/></a>"
      ]
    },
    {
      "cell_type": "code",
      "source": [
        "class BinaryTreeNode:\n",
        "    def __init__(self, value):\n",
        "        self.value = value\n",
        "        self.left = None\n",
        "        self.right = None\n",
        "\n",
        "    def preOrderTraversal(self):\n",
        "        print(self.value, end=\"\")\n",
        "        if self.left is not None:\n",
        "            self.left.preOrderTraversal()\n",
        "        if self.right is not None:\n",
        "            self.right.preOrderTraversal()\n",
        "\n",
        "    def postOrderTraversal(self):\n",
        "        if self.left is not None:\n",
        "            self.left.postOrderTraversal()\n",
        "        if self.right is not None:\n",
        "            self.right.postOrderTraversal()\n",
        "        print(self.value, end=\"\")\n",
        "\n",
        "    def inOrderTraversal(self):\n",
        "        if self.left is not None:\n",
        "            self.left.inOrderTraversal()\n",
        "        print(self.value, end=\"\")\n",
        "        if self.right is not None:\n",
        "            self.right.inOrderTraversal()\n",
        "\n",
        "\n",
        "if __name__ == \"__main__\":\n",
        "    root = BinaryTreeNode(0)\n",
        "\n",
        "    root.left = BinaryTreeNode(1)\n",
        "    root.right = BinaryTreeNode(2)\n",
        "\n",
        "    root.left.left = BinaryTreeNode(3)\n",
        "    root.left.right = BinaryTreeNode(4)\n",
        "\n",
        "    root.right.left = BinaryTreeNode(5)\n",
        "    root.right.right = BinaryTreeNode(6)\n",
        "\n",
        "    root.left.right.left = BinaryTreeNode(7)\n",
        "\n",
        "    root.left.right.right = BinaryTreeNode(8)\n",
        "\n",
        "    root.right.left.left = BinaryTreeNode(9)\n",
        "\n",
        "    root.right.right.left = BinaryTreeNode(10)\n",
        "    root.right.right.right = BinaryTreeNode(11)\n",
        "\n",
        "    print(\"Pre-order Traversal:\")\n",
        "    root.preOrderTraversal()\n",
        "\n",
        "    print(\"\\n\\nPost-order Traversal:\")\n",
        "    root.postOrderTraversal()\n",
        "\n",
        "    print(\"\\n\\nIn-order Traversal:\")\n",
        "    root.inOrderTraversal()\n"
      ],
      "metadata": {
        "colab": {
          "base_uri": "https://localhost:8080/"
        },
        "id": "vgc59PfOAiRU",
        "outputId": "f142597d-6b5b-4b9b-e2f3-28212734c5fe"
      },
      "execution_count": null,
      "outputs": [
        {
          "output_type": "stream",
          "name": "stdout",
          "text": [
            "Pre-order Traversal:\n",
            "01347825961011\n",
            "\n",
            "Post-order Traversal:\n",
            "37841951011620\n",
            "\n",
            "In-order Traversal:\n",
            "31748095210611"
          ]
        }
      ]
    }
  ]
}