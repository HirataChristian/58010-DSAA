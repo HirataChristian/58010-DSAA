{
  "nbformat": 4,
  "nbformat_minor": 0,
  "metadata": {
    "colab": {
      "provenance": [],
      "authorship_tag": "ABX9TyNa7inQjcKnV+nA0lSuFnPy",
      "include_colab_link": true
    },
    "kernelspec": {
      "name": "python3",
      "display_name": "Python 3"
    },
    "language_info": {
      "name": "python"
    }
  },
  "cells": [
    {
      "cell_type": "markdown",
      "metadata": {
        "id": "view-in-github",
        "colab_type": "text"
      },
      "source": [
        "<a href=\"https://colab.research.google.com/github/HirataChristian/58010-DSAA/blob/main/Example%201.ipynb\" target=\"_parent\"><img src=\"https://colab.research.google.com/assets/colab-badge.svg\" alt=\"Open In Colab\"/></a>"
      ]
    },
    {
      "cell_type": "code",
      "source": [
        "\n",
        "def calculate_rectangle_area(length, width):\n",
        "    area = length * width\n",
        "    return area\n",
        "\n",
        "length = float(input(\"Give the length of the rectangle: \"))\n",
        "width = float(input(\"Give the width of the rectangle: \"))\n",
        "\n",
        "\n",
        "area = calculate_rectangle_area(length, width)\n",
        "\n",
        "\n",
        "print(f\"The computed area of the rectangle is: {area}\")\n",
        "print(f\"The area of the rectangle is: {area}\")"
      ],
      "metadata": {
        "colab": {
          "base_uri": "https://localhost:8080/"
        },
        "id": "eObufcJcFKfW",
        "outputId": "b09bbc7e-8a42-4893-d542-61af3769cc11"
      },
      "execution_count": 8,
      "outputs": [
        {
          "output_type": "stream",
          "name": "stdout",
          "text": [
            "Give length of the rectangle: 56\n",
            "Give width of the rectangle: 16\n",
            "The computed area of the rectangle is: 896.0\n",
            "The area of the rectangle is: 896.0\n"
          ]
        }
      ]
    }
  ]
}