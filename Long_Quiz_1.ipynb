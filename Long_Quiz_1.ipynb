{
  "nbformat": 4,
  "nbformat_minor": 0,
  "metadata": {
    "colab": {
      "provenance": [],
      "authorship_tag": "ABX9TyPYzK/pKsVerw/P0skTSjuv",
      "include_colab_link": true
    },
    "kernelspec": {
      "name": "python3",
      "display_name": "Python 3"
    },
    "language_info": {
      "name": "python"
    }
  },
  "cells": [
    {
      "cell_type": "markdown",
      "metadata": {
        "id": "view-in-github",
        "colab_type": "text"
      },
      "source": [
        "<a href=\"https://colab.research.google.com/github/HirataChristian/58010-DSAA/blob/main/Long_Quiz_1.ipynb\" target=\"_parent\"><img src=\"https://colab.research.google.com/assets/colab-badge.svg\" alt=\"Open In Colab\"/></a>"
      ]
    },
    {
      "cell_type": "code",
      "source": [
        "\n",
        "full_name = input(\"Enter your full name: \")\n",
        "\n",
        "characters = []\n",
        "\n",
        "for char in full_name:\n",
        "    characters.append(char)\n",
        "\n",
        "print(\"Characters in reverse order:\")\n",
        "while characters:\n",
        "    print(characters.pop(), end=' ')\n",
        "print()"
      ],
      "metadata": {
        "colab": {
          "base_uri": "https://localhost:8080/"
        },
        "id": "Kfa0gfxKLcmj",
        "outputId": "006e35c9-dc18-49e1-d095-5eff629038f5"
      },
      "execution_count": 3,
      "outputs": [
        {
          "output_type": "stream",
          "name": "stdout",
          "text": [
            "Enter your full name: Christian Hirata\n",
            "Characters in reverse order:\n",
            "a t a r i H   n a i t s i r h C \n"
          ]
        }
      ]
    },
    {
      "cell_type": "code",
      "source": [
        "\n",
        "def is_prime(number):\n",
        "    if number <= 1:\n",
        "        return False\n",
        "    if number <= 3:\n",
        "        return True\n",
        "    if number % 2 == 0:\n",
        "        return False\n",
        "    divisor = 5\n",
        "    while divisor * divisor <= number:\n",
        "        if number % divisor == 0 or number % (divisor + 2) == 0:\n",
        "            return False\n",
        "        divisor += 6\n",
        "    return True\n",
        "\n",
        "\n",
        "for num in range(1, 11):\n",
        "    if is_prime(num):\n",
        "        print(f\"{num} is a prime number.\")\n",
        "    else:\n",
        "        print(f\"{num} is a composite number.\")"
      ],
      "metadata": {
        "colab": {
          "base_uri": "https://localhost:8080/"
        },
        "id": "kBYhmkO5MsDz",
        "outputId": "9cd9b245-9018-4233-cb79-b77405d3d944"
      },
      "execution_count": 5,
      "outputs": [
        {
          "output_type": "stream",
          "name": "stdout",
          "text": [
            "1 is a composite number.\n",
            "2 is a prime number.\n",
            "3 is a prime number.\n",
            "4 is a composite number.\n",
            "5 is a prime number.\n",
            "6 is a composite number.\n",
            "7 is a prime number.\n",
            "8 is a composite number.\n",
            "9 is a prime number.\n",
            "10 is a composite number.\n"
          ]
        }
      ]
    },
    {
      "cell_type": "code",
      "source": [],
      "metadata": {
        "id": "-bSuOPK5M29x"
      },
      "execution_count": null,
      "outputs": []
    }
  ]
}