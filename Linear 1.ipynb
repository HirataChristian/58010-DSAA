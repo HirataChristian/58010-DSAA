{
  "nbformat": 4,
  "nbformat_minor": 0,
  "metadata": {
    "colab": {
      "provenance": [],
      "authorship_tag": "ABX9TyO3czlz6+qiC1POLVsFKKZC",
      "include_colab_link": true
    },
    "kernelspec": {
      "name": "python3",
      "display_name": "Python 3"
    },
    "language_info": {
      "name": "python"
    }
  },
  "cells": [
    {
      "cell_type": "markdown",
      "metadata": {
        "id": "view-in-github",
        "colab_type": "text"
      },
      "source": [
        "<a href=\"https://colab.research.google.com/github/HirataChristian/58010-DSAA/blob/main/Linear%201.ipynb\" target=\"_parent\"><img src=\"https://colab.research.google.com/assets/colab-badge.svg\" alt=\"Open In Colab\"/></a>"
      ]
    },
    {
      "cell_type": "code",
      "source": [
        "def calculate_student_grade():\n",
        "    \"\"\"Calculates the final grade and equivalent letter grade of a student.\"\"\"\n",
        "    name = input(\"Enter student's name: \")\n",
        "    final_quizzes = float(input(\"Enter final quizzes score: \"))\n",
        "    final_assignment = float(input(\"Enter final research assignment score: \"))\n",
        "    final_project = float(input(\"Enter final project score: \"))\n",
        "    final_exam = float(input(\"Enter final exam score: \"))\n",
        "\n",
        "    final_grade = 0.30 * final_quizzes + 0.10 * final_assignment + 0.40 * final_project + 0.20 * final_exam\n",
        "\n",
        "    if final_grade >= 98:\n",
        "        letter_grade = \"4.00\"\n",
        "    elif final_grade >= 95:\n",
        "        letter_grade = \"3.75\"\n",
        "    elif final_grade >= 92:\n",
        "        letter_grade = \"3.50\"\n",
        "    elif final_grade >= 89:\n",
        "        letter_grade = \"3.25\"\n",
        "    elif final_grade >= 83:\n",
        "        letter_grade = \"3.00\"\n",
        "    elif final_grade >= 80:\n",
        "        letter_grade = \"2.75\"\n",
        "    elif final_grade >= 77:\n",
        "        letter_grade = \"2.50\"\n",
        "    elif final_grade >= 74:\n",
        "        letter_grade = \"2.25\"\n",
        "    elif final_grade >= 71:\n",
        "        letter_grade = \"2.00\"\n",
        "    elif final_grade >= 68:\n",
        "        letter_grade = \"1.75\"\n",
        "    elif final_grade >= 64:\n",
        "        letter_grade = \"1.50\"\n",
        "    elif final_grade >= 60:\n",
        "        letter_grade = \"1.25\"\n",
        "    else:\n",
        "        letter_grade = \"0.00\"\n",
        "\n",
        "    print(f\"Student Name: {name}\")\n",
        "    print(f\"Final Grade: {final_grade}\")\n",
        "    print(f\"Equivalent Letter Grade: {letter_grade}\")\n",
        "\n",
        "calculate_student_grade()\n"
      ],
      "metadata": {
        "colab": {
          "base_uri": "https://localhost:8080/",
          "height": 370
        },
        "id": "OFHbgdipE-5f",
        "outputId": "f2bf1a41-b304-42e9-eb40-ae68277fea63"
      },
      "execution_count": null,
      "outputs": [
        {
          "output_type": "error",
          "ename": "KeyboardInterrupt",
          "evalue": "Interrupted by user",
          "traceback": [
            "\u001b[0;31m---------------------------------------------------------------------------\u001b[0m",
            "\u001b[0;31mKeyboardInterrupt\u001b[0m                         Traceback (most recent call last)",
            "\u001b[0;32m<ipython-input-15-838c76425bec>\u001b[0m in \u001b[0;36m<cell line: 42>\u001b[0;34m()\u001b[0m\n\u001b[1;32m     40\u001b[0m     \u001b[0mprint\u001b[0m\u001b[0;34m(\u001b[0m\u001b[0;34mf\"Equivalent Letter Grade: {letter_grade}\"\u001b[0m\u001b[0;34m)\u001b[0m\u001b[0;34m\u001b[0m\u001b[0;34m\u001b[0m\u001b[0m\n\u001b[1;32m     41\u001b[0m \u001b[0;34m\u001b[0m\u001b[0m\n\u001b[0;32m---> 42\u001b[0;31m \u001b[0mcalculate_student_grade\u001b[0m\u001b[0;34m(\u001b[0m\u001b[0;34m)\u001b[0m\u001b[0;34m\u001b[0m\u001b[0;34m\u001b[0m\u001b[0m\n\u001b[0m",
            "\u001b[0;32m<ipython-input-15-838c76425bec>\u001b[0m in \u001b[0;36mcalculate_student_grade\u001b[0;34m()\u001b[0m\n\u001b[1;32m      1\u001b[0m \u001b[0;32mdef\u001b[0m \u001b[0mcalculate_student_grade\u001b[0m\u001b[0;34m(\u001b[0m\u001b[0;34m)\u001b[0m\u001b[0;34m:\u001b[0m\u001b[0;34m\u001b[0m\u001b[0;34m\u001b[0m\u001b[0m\n\u001b[1;32m      2\u001b[0m     \u001b[0;34m\"\"\"Calculates the final grade and equivalent letter grade of a student.\"\"\"\u001b[0m\u001b[0;34m\u001b[0m\u001b[0;34m\u001b[0m\u001b[0m\n\u001b[0;32m----> 3\u001b[0;31m     \u001b[0mname\u001b[0m \u001b[0;34m=\u001b[0m \u001b[0minput\u001b[0m\u001b[0;34m(\u001b[0m\u001b[0;34m\"Enter student's name: \"\u001b[0m\u001b[0;34m)\u001b[0m\u001b[0;34m\u001b[0m\u001b[0;34m\u001b[0m\u001b[0m\n\u001b[0m\u001b[1;32m      4\u001b[0m     \u001b[0mfinal_quizzes\u001b[0m \u001b[0;34m=\u001b[0m \u001b[0mfloat\u001b[0m\u001b[0;34m(\u001b[0m\u001b[0minput\u001b[0m\u001b[0;34m(\u001b[0m\u001b[0;34m\"Enter final quizzes score: \"\u001b[0m\u001b[0;34m)\u001b[0m\u001b[0;34m)\u001b[0m\u001b[0;34m\u001b[0m\u001b[0;34m\u001b[0m\u001b[0m\n\u001b[1;32m      5\u001b[0m     \u001b[0mfinal_assignment\u001b[0m \u001b[0;34m=\u001b[0m \u001b[0mfloat\u001b[0m\u001b[0;34m(\u001b[0m\u001b[0minput\u001b[0m\u001b[0;34m(\u001b[0m\u001b[0;34m\"Enter final research assignment score: \"\u001b[0m\u001b[0;34m)\u001b[0m\u001b[0;34m)\u001b[0m\u001b[0;34m\u001b[0m\u001b[0;34m\u001b[0m\u001b[0m\n",
            "\u001b[0;32m/usr/local/lib/python3.10/dist-packages/ipykernel/kernelbase.py\u001b[0m in \u001b[0;36mraw_input\u001b[0;34m(self, prompt)\u001b[0m\n\u001b[1;32m    849\u001b[0m                 \u001b[0;34m\"raw_input was called, but this frontend does not support input requests.\"\u001b[0m\u001b[0;34m\u001b[0m\u001b[0;34m\u001b[0m\u001b[0m\n\u001b[1;32m    850\u001b[0m             )\n\u001b[0;32m--> 851\u001b[0;31m         return self._input_request(str(prompt),\n\u001b[0m\u001b[1;32m    852\u001b[0m             \u001b[0mself\u001b[0m\u001b[0;34m.\u001b[0m\u001b[0m_parent_ident\u001b[0m\u001b[0;34m,\u001b[0m\u001b[0;34m\u001b[0m\u001b[0;34m\u001b[0m\u001b[0m\n\u001b[1;32m    853\u001b[0m             \u001b[0mself\u001b[0m\u001b[0;34m.\u001b[0m\u001b[0m_parent_header\u001b[0m\u001b[0;34m,\u001b[0m\u001b[0;34m\u001b[0m\u001b[0;34m\u001b[0m\u001b[0m\n",
            "\u001b[0;32m/usr/local/lib/python3.10/dist-packages/ipykernel/kernelbase.py\u001b[0m in \u001b[0;36m_input_request\u001b[0;34m(self, prompt, ident, parent, password)\u001b[0m\n\u001b[1;32m    893\u001b[0m             \u001b[0;32mexcept\u001b[0m \u001b[0mKeyboardInterrupt\u001b[0m\u001b[0;34m:\u001b[0m\u001b[0;34m\u001b[0m\u001b[0;34m\u001b[0m\u001b[0m\n\u001b[1;32m    894\u001b[0m                 \u001b[0;31m# re-raise KeyboardInterrupt, to truncate traceback\u001b[0m\u001b[0;34m\u001b[0m\u001b[0;34m\u001b[0m\u001b[0m\n\u001b[0;32m--> 895\u001b[0;31m                 \u001b[0;32mraise\u001b[0m \u001b[0mKeyboardInterrupt\u001b[0m\u001b[0;34m(\u001b[0m\u001b[0;34m\"Interrupted by user\"\u001b[0m\u001b[0;34m)\u001b[0m \u001b[0;32mfrom\u001b[0m \u001b[0;32mNone\u001b[0m\u001b[0;34m\u001b[0m\u001b[0;34m\u001b[0m\u001b[0m\n\u001b[0m\u001b[1;32m    896\u001b[0m             \u001b[0;32mexcept\u001b[0m \u001b[0mException\u001b[0m \u001b[0;32mas\u001b[0m \u001b[0me\u001b[0m\u001b[0;34m:\u001b[0m\u001b[0;34m\u001b[0m\u001b[0;34m\u001b[0m\u001b[0m\n\u001b[1;32m    897\u001b[0m                 \u001b[0mself\u001b[0m\u001b[0;34m.\u001b[0m\u001b[0mlog\u001b[0m\u001b[0;34m.\u001b[0m\u001b[0mwarning\u001b[0m\u001b[0;34m(\u001b[0m\u001b[0;34m\"Invalid Message:\"\u001b[0m\u001b[0;34m,\u001b[0m \u001b[0mexc_info\u001b[0m\u001b[0;34m=\u001b[0m\u001b[0;32mTrue\u001b[0m\u001b[0;34m)\u001b[0m\u001b[0;34m\u001b[0m\u001b[0;34m\u001b[0m\u001b[0m\n",
            "\u001b[0;31mKeyboardInterrupt\u001b[0m: Interrupted by user"
          ]
        }
      ]
    },
    {
      "cell_type": "code",
      "source": [
        "def main():\n",
        "\n",
        "    employee_name = input(\"Enter employee's name: \")\n",
        "    department = input(\"Enter employee's department: \")\n",
        "    hours_per_day = float(input(\"Enter number of working hours per day: \"))\n",
        "    days_per_week = float(input(\"Enter number of days per week: \"))\n",
        "    weeks_per_month = float(input(\"Enter number of weeks per month: \"))\n",
        "    rate_per_hour = float(input(\"Enter rate per hour: \"))\n",
        "\n",
        "    gross_income = compute_gross_income(hours_per_day, days_per_week, weeks_per_month, rate_per_hour)\n",
        "\n",
        "\n",
        "    sss_contribution = compute_sss_contribution(gross_income)\n",
        "    philhealth_contribution = compute_philhealth_contribution(gross_income)\n",
        "\n",
        "\n",
        "    pagibig_contribution = 100.00\n",
        "    total_deduction = compute_total_deduction(sss_contribution, philhealth_contribution, pagibig_contribution)\n",
        "\n",
        "\n",
        "    net_income = compute_net_income(gross_income, total_deduction)\n",
        "\n",
        "\n",
        "    print(\"\\nEmployee Information:\")\n",
        "    print(f\"Name: {employee_name}\")\n",
        "    print(f\"Department: {department}\")\n",
        "    print(\"\\nComputed Values:\")\n",
        "    print(f\"Gross Income: {gross_income:.2f}\")\n",
        "    print(f\"SSS Contribution: {sss_contribution:.2f}\")\n",
        "    print(f\"Philhealth Contribution: {philhealth_contribution:.2f}\")\n",
        "    print(f\"Pagibig Contribution: {pagibig_contribution:.2f}\")\n",
        "    print(f\"Total Deduction: {total_deduction:.2f}\")\n",
        "    print(f\"Net Income: {net_income:.2f}\")\n",
        "\n",
        "if __name__ == \"__main__\":\n",
        "    main()"
      ],
      "metadata": {
        "colab": {
          "base_uri": "https://localhost:8080/"
        },
        "id": "SAobjuz9RTr8",
        "outputId": "beeb6208-d946-42bd-836b-673975a9e01f"
      },
      "execution_count": null,
      "outputs": [
        {
          "output_type": "stream",
          "name": "stdout",
          "text": [
            "Enter employee's name: chan\n",
            "Enter employee's department: ty\n",
            "Enter number of working hours per day: 9\n",
            "Enter number of days per week: 7\n",
            "Enter number of weeks per month: 8\n",
            "Enter rate per hour: 8\n",
            "\n",
            "Employee Information:\n",
            "Name: chan\n",
            "Department: ty\n",
            "\n",
            "Computed Values:\n",
            "Gross Income: 4032.00\n",
            "SSS Contribution: 125.75\n",
            "Philhealth Contribution: 100.00\n",
            "Pagibig Contribution: 100.00\n",
            "Total Deduction: 325.75\n",
            "Net Income: 3706.25\n"
          ]
        }
      ]
    }
  ]
}