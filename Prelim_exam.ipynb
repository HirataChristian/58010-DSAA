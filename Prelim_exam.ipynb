{
  "nbformat": 4,
  "nbformat_minor": 0,
  "metadata": {
    "colab": {
      "provenance": [],
      "authorship_tag": "ABX9TyOuX7p4nbnwWFrRyAO1N6ug",
      "include_colab_link": true
    },
    "kernelspec": {
      "name": "python3",
      "display_name": "Python 3"
    },
    "language_info": {
      "name": "python"
    }
  },
  "cells": [
    {
      "cell_type": "markdown",
      "metadata": {
        "id": "view-in-github",
        "colab_type": "text"
      },
      "source": [
        "<a href=\"https://colab.research.google.com/github/HirataChristian/58010-DSAA/blob/main/Prelim_exam.ipynb\" target=\"_parent\"><img src=\"https://colab.research.google.com/assets/colab-badge.svg\" alt=\"Open In Colab\"/></a>"
      ]
    },
    {
      "cell_type": "code",
      "execution_count": 2,
      "metadata": {
        "id": "LUoef8NCcq-u",
        "colab": {
          "base_uri": "https://localhost:8080/"
        },
        "outputId": "5cdf506e-f55d-4a16-b2da-37b52f9ed98d"
      },
      "outputs": [
        {
          "output_type": "stream",
          "name": "stdout",
          "text": [
            "The sum of test scores is: 397\n"
          ]
        }
      ],
      "source": [
        "\n",
        "test_scores = [26, 49, 98, 87, 62, 75]\n",
        "\n",
        "total_score = sum(test_scores)\n",
        "\n",
        "print(\"The sum of test scores is:\", total_score)\n"
      ]
    },
    {
      "cell_type": "code",
      "source": [
        "\n",
        "def main():\n",
        "    grades = [26, 49, 98, 87, 62, 75]\n",
        "    sorted_grades = sorted(grades)\n",
        "    print(\"Grades in ascending order:\", sorted_grades)\n",
        "\n",
        "if __name__ == \"__main__\":\n",
        "    main()"
      ],
      "metadata": {
        "colab": {
          "base_uri": "https://localhost:8080/"
        },
        "id": "17R37nEic33o",
        "outputId": "0e2fd9ce-8fb4-439b-c7a8-0fbb70ea3f3e"
      },
      "execution_count": 1,
      "outputs": [
        {
          "output_type": "stream",
          "name": "stdout",
          "text": [
            "Grades in ascending order: [26, 49, 62, 75, 87, 98]\n"
          ]
        }
      ]
    }
  ]
}