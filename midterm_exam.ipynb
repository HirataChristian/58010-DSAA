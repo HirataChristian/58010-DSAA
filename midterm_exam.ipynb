{
  "nbformat": 4,
  "nbformat_minor": 0,
  "metadata": {
    "colab": {
      "provenance": [],
      "authorship_tag": "ABX9TyMAkSiAHZNljzxMKuIgxZl8",
      "include_colab_link": true
    },
    "kernelspec": {
      "name": "python3",
      "display_name": "Python 3"
    },
    "language_info": {
      "name": "python"
    }
  },
  "cells": [
    {
      "cell_type": "markdown",
      "metadata": {
        "id": "view-in-github",
        "colab_type": "text"
      },
      "source": [
        "<a href=\"https://colab.research.google.com/github/HirataChristian/58010-DSAA/blob/main/midterm_exam.ipynb\" target=\"_parent\"><img src=\"https://colab.research.google.com/assets/colab-badge.svg\" alt=\"Open In Colab\"/></a>"
      ]
    },
    {
      "cell_type": "code",
      "source": [
        "class graph:\n",
        "  def __init__(self,gdict=None):\n",
        "    if gdict is None:\n",
        "      gdict = {}\n",
        "    self.gdict = gdict\n",
        "\n",
        "  def edges(self):\n",
        "    return self.findedges()\n",
        "\n",
        "  def findedges(self):\n",
        "    edgename = []\n",
        "    for vrtx in self.gdict:\n",
        "      for nxtvrtx in self.gdict[vrtx]:\n",
        "        if {nxtvrtx, vrtx} not in edgename:\n",
        "           edgename.append({vrtx, nxtvrtx})\n",
        "    return edgename\n",
        "\n",
        "graph_elements = {\n",
        "    \"A\" : [\"B\",\"E\" ],\n",
        "    \"B\" : [\"E\",\"F\" ],\n",
        "    \"E\" : [\"N\",\"C\"],\n",
        "    \"N\" : [\"O\",\"M\"],\n",
        "    \"O\" : [\"N\",\"P\"],\n",
        "    \"P\" : [\"M\",\"L\"],\n",
        "    \"L\" : [\"P\", \"M\", \"D\"],\n",
        "    \"D\" : [\"L\", \"C\", \"K\"],\n",
        "    \"K\" : [\"D\",\"J\"],\n",
        "    \"J\" : [\"K\",\"G\"],\n",
        "    \"G\" : [\"F\",\"I\", \"J\"],\n",
        "    \"F\" : [\"B\",\"C\", \"G\",\"I\"],\n",
        "}\n",
        "g = graph(graph_elements)\n",
        "print(g.edges())\n",
        ""
      ],
      "metadata": {
        "colab": {
          "base_uri": "https://localhost:8080/"
        },
        "id": "xNkUrQ5aomqR",
        "outputId": "17870829-fe51-4c80-bea4-7082d3e85371"
      },
      "execution_count": 4,
      "outputs": [
        {
          "output_type": "stream",
          "name": "stdout",
          "text": [
            "[{'A', 'B'}, {'E', 'A'}, {'E', 'B'}, {'F', 'B'}, {'E', 'N'}, {'E', 'C'}, {'O', 'N'}, {'N', 'M'}, {'O', 'P'}, {'M', 'P'}, {'L', 'P'}, {'L', 'M'}, {'D', 'L'}, {'D', 'C'}, {'D', 'K'}, {'K', 'J'}, {'G', 'J'}, {'F', 'G'}, {'I', 'G'}, {'F', 'C'}, {'F', 'I'}]\n"
          ]
        }
      ]
    }
  ]
}