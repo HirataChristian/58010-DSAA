{
  "nbformat": 4,
  "nbformat_minor": 0,
  "metadata": {
    "colab": {
      "provenance": [],
      "authorship_tag": "ABX9TyMHV6ChZtZrvBgnzdUwdPNJ",
      "include_colab_link": true
    },
    "kernelspec": {
      "name": "python3",
      "display_name": "Python 3"
    },
    "language_info": {
      "name": "python"
    }
  },
  "cells": [
    {
      "cell_type": "markdown",
      "metadata": {
        "id": "view-in-github",
        "colab_type": "text"
      },
      "source": [
        "<a href=\"https://colab.research.google.com/github/HirataChristian/58010-DSAA/blob/main/Lab_6_(B).ipynb\" target=\"_parent\"><img src=\"https://colab.research.google.com/assets/colab-badge.svg\" alt=\"Open In Colab\"/></a>"
      ]
    },
    {
      "cell_type": "code",
      "execution_count": 1,
      "metadata": {
        "colab": {
          "base_uri": "https://localhost:8080/"
        },
        "id": "UUWb5pWF0v_U",
        "outputId": "92d7d49e-f481-42fb-c41e-8da20f93eb23"
      },
      "outputs": [
        {
          "output_type": "stream",
          "name": "stdout",
          "text": [
            "Original doubly linked list:\n",
            "c b a \n",
            "\n",
            "Number of items: 3\n",
            "\n",
            "After inserting 'z' at the front:\n",
            "c b a z \n"
          ]
        }
      ],
      "source": [
        "class Node:\n",
        "    def __init__(self, data):\n",
        "        self.data = data\n",
        "        self.prev = None\n",
        "        self.next = None\n",
        "\n",
        "\n",
        "class DoublyLinkedList:\n",
        "    def __init__(self):\n",
        "        self.head = None\n",
        "\n",
        "    def append(self, data):\n",
        "        new_node = Node(data)\n",
        "        if not self.head:\n",
        "            self.head = new_node\n",
        "        else:\n",
        "            current = self.head\n",
        "            while current.next:\n",
        "                current = current.next\n",
        "            current.next = new_node\n",
        "            new_node.prev = current\n",
        "\n",
        "    def insert_at_front(self, data):\n",
        "        new_node = Node(data)\n",
        "        new_node.next = self.head\n",
        "        if self.head:\n",
        "            self.head.prev = new_node\n",
        "        self.head = new_node\n",
        "\n",
        "    def count_items(self):\n",
        "        count = 0\n",
        "        current = self.head\n",
        "        while current:\n",
        "            count += 1\n",
        "            current = current.next\n",
        "        return count\n",
        "\n",
        "    def print_reverse(self):\n",
        "        current = self.head\n",
        "        while current.next:\n",
        "            current = current.next\n",
        "        while current:\n",
        "            print(current.data, end=' ')\n",
        "            current = current.prev\n",
        "        print()\n",
        "\n",
        "\n",
        "# Example usage\n",
        "dll = DoublyLinkedList()\n",
        "dll.append('a')\n",
        "dll.append('b')\n",
        "dll.append('c')\n",
        "\n",
        "print(\"Original doubly linked list:\")\n",
        "dll.print_reverse()\n",
        "\n",
        "print(\"\\nNumber of items:\", dll.count_items())\n",
        "\n",
        "dll.insert_at_front('z')\n",
        "print(\"\\nAfter inserting 'z' at the front:\")\n",
        "dll.print_reverse()\n"
      ]
    }
  ]
}