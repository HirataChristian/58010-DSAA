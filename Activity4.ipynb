{
  "nbformat": 4,
  "nbformat_minor": 0,
  "metadata": {
    "colab": {
      "provenance": [],
      "authorship_tag": "ABX9TyPIAI11mIQoJI48bzNj6PK+",
      "include_colab_link": true
    },
    "kernelspec": {
      "name": "python3",
      "display_name": "Python 3"
    },
    "language_info": {
      "name": "python"
    }
  },
  "cells": [
    {
      "cell_type": "markdown",
      "metadata": {
        "id": "view-in-github",
        "colab_type": "text"
      },
      "source": [
        "<a href=\"https://colab.research.google.com/github/HirataChristian/58010-DSAA/blob/main/Activity4.ipynb\" target=\"_parent\"><img src=\"https://colab.research.google.com/assets/colab-badge.svg\" alt=\"Open In Colab\"/></a>"
      ]
    },
    {
      "cell_type": "code",
      "execution_count": 1,
      "metadata": {
        "colab": {
          "base_uri": "https://localhost:8080/"
        },
        "id": "Dj05CpXtMw5U",
        "outputId": "23b5ee01-5328-4a53-a213-d759a26f3220"
      },
      "outputs": [
        {
          "output_type": "stream",
          "name": "stdout",
          "text": [
            "['A', 'B', 'C']\n",
            "[]\n"
          ]
        }
      ],
      "source": [
        "queue = []\n",
        "#insert element in the queue, enqueue if inserting and dequeue if removing element\n",
        "queue.append('A')\n",
        "queue.append('B')\n",
        "queue.append('C')\n",
        "print(queue)\n",
        "\n",
        "queue.pop (0)\n",
        "queue.pop (0)\n",
        "queue.pop (0)\n",
        "print (queue)\n"
      ]
    },
    {
      "cell_type": "code",
      "source": [],
      "metadata": {
        "id": "Cs-SB5VAOyzN"
      },
      "execution_count": null,
      "outputs": []
    },
    {
      "cell_type": "code",
      "source": [
        "import queue\n",
        "\n",
        "# Create a queue\n",
        "even_numbers_queue = queue.Queue()\n",
        "\n",
        "# Function to add even numbers from 1 to 50 into the queue\n",
        "def add_even_numbers(queue):\n",
        "    for number in range(2, 51, 2):\n",
        "        queue.put(number)\n",
        "\n",
        "# Function to remove and display numbers from the queue\n",
        "def remove_and_display(queue):\n",
        "    print(\"Even numbers from 1 to 50:\")\n",
        "    while not queue.empty():\n",
        "        print(queue.get(), end=\" \")\n",
        "\n",
        "# Add even numbers to the queue\n",
        "add_even_numbers(even_numbers_queue)\n",
        "\n",
        "# Remove and display even numbers\n",
        "remove_and_display(even_numbers_queue)\n",
        "\n",
        "print(\"\\nQueue is empty now.\")\n"
      ],
      "metadata": {
        "colab": {
          "base_uri": "https://localhost:8080/"
        },
        "id": "K2BoUmeUTwO8",
        "outputId": "2c9c1d3b-d61e-43dd-b519-3684da2764c0"
      },
      "execution_count": 3,
      "outputs": [
        {
          "output_type": "stream",
          "name": "stdout",
          "text": [
            "Even numbers from 1 to 50:\n",
            "2 4 6 8 10 12 14 16 18 20 22 24 26 28 30 32 34 36 38 40 42 44 46 48 50 \n",
            "Queue is empty now.\n"
          ]
        }
      ]
    }
  ]
}