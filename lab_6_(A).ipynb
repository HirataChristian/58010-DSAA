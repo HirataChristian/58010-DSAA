{
  "nbformat": 4,
  "nbformat_minor": 0,
  "metadata": {
    "colab": {
      "provenance": [],
      "authorship_tag": "ABX9TyM4hNE+DbbGQI+KSPvlfetK",
      "include_colab_link": true
    },
    "kernelspec": {
      "name": "python3",
      "display_name": "Python 3"
    },
    "language_info": {
      "name": "python"
    }
  },
  "cells": [
    {
      "cell_type": "markdown",
      "metadata": {
        "id": "view-in-github",
        "colab_type": "text"
      },
      "source": [
        "<a href=\"https://colab.research.google.com/github/HirataChristian/58010-DSAA/blob/main/lab_6_(A).ipynb\" target=\"_parent\"><img src=\"https://colab.research.google.com/assets/colab-badge.svg\" alt=\"Open In Colab\"/></a>"
      ]
    },
    {
      "cell_type": "code",
      "execution_count": 3,
      "metadata": {
        "colab": {
          "base_uri": "https://localhost:8080/"
        },
        "id": "K9hsva2xw4jW",
        "outputId": "5b589bd1-cdaa-4c1e-8b17-eba682731a2e"
      },
      "outputs": [
        {
          "output_type": "stream",
          "name": "stdout",
          "text": [
            "['e', 'd', 'b', 'f', 'c', 'a']\n"
          ]
        }
      ],
      "source": [
        "\n",
        "elements = ['a', 'b', 'c', 'd', 'e', 'f']\n",
        "\n",
        "\n",
        "access_sequence = ['a', 'b', 'c', 'd', 'e', 'f', 'a', 'c', 'f', 'b', 'd', 'e']\n",
        "\n",
        "\n",
        "for item in access_sequence:\n",
        "    if item in elements:\n",
        "        elements.remove(item)\n",
        "        elements.insert(0, item)\n",
        "\n",
        "print(elements)\n"
      ]
    }
  ]
}